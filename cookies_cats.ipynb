{
 "cells": [
  {
   "cell_type": "code",
   "execution_count": 1,
   "id": "304dfb2d",
   "metadata": {},
   "outputs": [],
   "source": [
    "# Import the modules\n",
    "\n",
    "import numpy as np\n",
    "import pandas as pd\n",
    "import seaborn as sns \n",
    "import matplotlib.pyplot as plt \n",
    "import os \n",
    "\n",
    "# hypothesis testing \n",
    "from scipy.stats import shapiro \n",
    "import scipy.stats as stats \n",
    "\n",
    "import warnings\n",
    "warnings.filterwarnings(\"ignore\")\n",
    "warnings.simplefilter(action='ignore',category=FutureWarning)\n",
    "\n",
    "pd.set_option('display.max_columns',None)"
   ]
  },
  {
   "cell_type": "code",
   "execution_count": 2,
   "id": "8e19125c",
   "metadata": {},
   "outputs": [],
   "source": [
    "# load the data\n",
    "\n",
    "path='data/cookie_cats.csv'\n",
    "\n",
    "def load(path, info=True):\n",
    "    if len(path.split(\".csv\")) > 1:\n",
    "        read=pd.read_csv(path)\n",
    "    elif len(path.split(\".xlsx\")) > 1:\n",
    "        read_pd.read_excel(path)\n",
    "        \n",
    "    if info:\n",
    "        if len(read) > 0:\n",
    "            print(\">> Data Imported!\\n----------------------\\n\")\n",
    "            \n",
    "            print(\">> Dimentions:\")\n",
    "            \n",
    "            print(\"~ observation:\",read.shape[0], \"column:\",read.shape[1], \"\\n\")\n",
    "            print(\"----------------------------------\")\n",
    "            \n",
    "            print(\">> Dtypes: \")\n",
    "            if len(read.select_dtypes(\"object\").columns) > 0:\n",
    "                print(\"~ object variables: \", len(read.select_dtypes(\"object\").columns),\"\\n\",\n",
    "                     read.select_dtypes(\"object\").columns.tolist(), \"\\n\")\n",
    "            \n",
    "            if len(read.select_dtypes(\"integer\").columns) > 0:\n",
    "                print(\"~ integer variables: \", len(read.select_dtypes(\"integer\").columns),\"\\n\",\n",
    "                     read.select_dtypes(\"integer\").columns.tolist(), \"\\n\")\n",
    "            \n",
    "            if len(read.select_dtypes(\"float\").columns) > 0:\n",
    "                print(\"~ float variables: \", len(read.select_dtypes(\"float\").columns),\"\\n\",\n",
    "                     read.select_dtypes(\"float\").columns.tolist(), \"\\n\")\n",
    "                \n",
    "            if len(read.select_dtypes(\"bool\").columns) > 0:\n",
    "                print(\"~ bool variables: \", len(read.select_dtypes(\"bool\").columns),\"\\n\",\n",
    "                     read.select_dtypes(\"bool\").columns.tolist(), \"\\n\")\n",
    "            print(\"-------------------------------------\")\n",
    "            \n",
    "            \n",
    "            print(\">> Missing Value\")\n",
    "            print(np.where(read.isnull().values.any()==False, \"No missing Values!\", \"Data includes missing value!\"),\"\\n\")\n",
    "            print(\"-------------------------------------\") \n",
    "            \n",
    "    else:\n",
    "        print(\"data did not import !\")\n",
    "    \n",
    "    return read\n"
   ]
  },
  {
   "cell_type": "code",
   "execution_count": 3,
   "id": "26578172",
   "metadata": {},
   "outputs": [
    {
     "name": "stdout",
     "output_type": "stream",
     "text": [
      ">> Data Imported!\n",
      "----------------------\n",
      "\n",
      ">> Dimentions:\n",
      "~ observation: 90189 column: 5 \n",
      "\n",
      "----------------------------------\n",
      ">> Dtypes: \n",
      "~ object variables:  1 \n",
      " ['version'] \n",
      "\n",
      "~ integer variables:  2 \n",
      " ['userid', 'sum_gamerounds'] \n",
      "\n",
      "~ bool variables:  2 \n",
      " ['retention_1', 'retention_7'] \n",
      "\n",
      "-------------------------------------\n",
      ">> Missing Value\n",
      "No missing Values! \n",
      "\n",
      "-------------------------------------\n"
     ]
    },
    {
     "data": {
      "text/html": [
       "<div>\n",
       "<style scoped>\n",
       "    .dataframe tbody tr th:only-of-type {\n",
       "        vertical-align: middle;\n",
       "    }\n",
       "\n",
       "    .dataframe tbody tr th {\n",
       "        vertical-align: top;\n",
       "    }\n",
       "\n",
       "    .dataframe thead th {\n",
       "        text-align: right;\n",
       "    }\n",
       "</style>\n",
       "<table border=\"1\" class=\"dataframe\">\n",
       "  <thead>\n",
       "    <tr style=\"text-align: right;\">\n",
       "      <th></th>\n",
       "      <th>userid</th>\n",
       "      <th>version</th>\n",
       "      <th>sum_gamerounds</th>\n",
       "      <th>retention_1</th>\n",
       "      <th>retention_7</th>\n",
       "    </tr>\n",
       "  </thead>\n",
       "  <tbody>\n",
       "    <tr>\n",
       "      <th>0</th>\n",
       "      <td>116</td>\n",
       "      <td>gate_30</td>\n",
       "      <td>3</td>\n",
       "      <td>False</td>\n",
       "      <td>False</td>\n",
       "    </tr>\n",
       "    <tr>\n",
       "      <th>1</th>\n",
       "      <td>337</td>\n",
       "      <td>gate_30</td>\n",
       "      <td>38</td>\n",
       "      <td>True</td>\n",
       "      <td>False</td>\n",
       "    </tr>\n",
       "    <tr>\n",
       "      <th>2</th>\n",
       "      <td>377</td>\n",
       "      <td>gate_40</td>\n",
       "      <td>165</td>\n",
       "      <td>True</td>\n",
       "      <td>False</td>\n",
       "    </tr>\n",
       "    <tr>\n",
       "      <th>3</th>\n",
       "      <td>483</td>\n",
       "      <td>gate_40</td>\n",
       "      <td>1</td>\n",
       "      <td>False</td>\n",
       "      <td>False</td>\n",
       "    </tr>\n",
       "    <tr>\n",
       "      <th>4</th>\n",
       "      <td>488</td>\n",
       "      <td>gate_40</td>\n",
       "      <td>179</td>\n",
       "      <td>True</td>\n",
       "      <td>True</td>\n",
       "    </tr>\n",
       "  </tbody>\n",
       "</table>\n",
       "</div>"
      ],
      "text/plain": [
       "   userid  version  sum_gamerounds  retention_1  retention_7\n",
       "0     116  gate_30               3        False        False\n",
       "1     337  gate_30              38         True        False\n",
       "2     377  gate_40             165         True        False\n",
       "3     483  gate_40               1        False        False\n",
       "4     488  gate_40             179         True         True"
      ]
     },
     "execution_count": 3,
     "metadata": {},
     "output_type": "execute_result"
    }
   ],
   "source": [
    "ab=load(path, info=True)\n",
    "ab.head()"
   ]
  },
  {
   "cell_type": "code",
   "execution_count": 4,
   "id": "a74fb214",
   "metadata": {},
   "outputs": [
    {
     "name": "stdout",
     "output_type": "stream",
     "text": [
      "True\n"
     ]
    },
    {
     "data": {
      "text/html": [
       "<div>\n",
       "<style scoped>\n",
       "    .dataframe tbody tr th:only-of-type {\n",
       "        vertical-align: middle;\n",
       "    }\n",
       "\n",
       "    .dataframe tbody tr th {\n",
       "        vertical-align: top;\n",
       "    }\n",
       "\n",
       "    .dataframe thead th {\n",
       "        text-align: right;\n",
       "    }\n",
       "</style>\n",
       "<table border=\"1\" class=\"dataframe\">\n",
       "  <thead>\n",
       "    <tr style=\"text-align: right;\">\n",
       "      <th></th>\n",
       "      <th>count</th>\n",
       "      <th>mean</th>\n",
       "      <th>std</th>\n",
       "      <th>min</th>\n",
       "      <th>1%</th>\n",
       "      <th>5%</th>\n",
       "      <th>10%</th>\n",
       "      <th>20%</th>\n",
       "      <th>50%</th>\n",
       "      <th>80%</th>\n",
       "      <th>90%</th>\n",
       "      <th>95%</th>\n",
       "      <th>99%</th>\n",
       "      <th>max</th>\n",
       "    </tr>\n",
       "  </thead>\n",
       "  <tbody>\n",
       "    <tr>\n",
       "      <th>sum_gamerounds</th>\n",
       "      <td>90189.0</td>\n",
       "      <td>51.872457</td>\n",
       "      <td>195.050858</td>\n",
       "      <td>0.0</td>\n",
       "      <td>0.0</td>\n",
       "      <td>1.0</td>\n",
       "      <td>1.0</td>\n",
       "      <td>3.0</td>\n",
       "      <td>16.0</td>\n",
       "      <td>67.0</td>\n",
       "      <td>134.0</td>\n",
       "      <td>221.0</td>\n",
       "      <td>493.0</td>\n",
       "      <td>49854.0</td>\n",
       "    </tr>\n",
       "  </tbody>\n",
       "</table>\n",
       "</div>"
      ],
      "text/plain": [
       "                  count       mean         std  min   1%   5%  10%  20%   50%  \\\n",
       "sum_gamerounds  90189.0  51.872457  195.050858  0.0  0.0  1.0  1.0  3.0  16.0   \n",
       "\n",
       "                 80%    90%    95%    99%      max  \n",
       "sum_gamerounds  67.0  134.0  221.0  493.0  49854.0  "
      ]
     },
     "execution_count": 4,
     "metadata": {},
     "output_type": "execute_result"
    }
   ],
   "source": [
    "# summary stats \n",
    "\n",
    "print(ab.userid.nunique()==ab.shape[0])\n",
    "\n",
    "ab.describe([0.01, 0.05, 0.10, 0.20, 0.80, 0.90, 0.95, 0.99])[[\"sum_gamerounds\"]].T"
   ]
  },
  {
   "cell_type": "code",
   "execution_count": 5,
   "id": "fb5252cb",
   "metadata": {},
   "outputs": [
    {
     "data": {
      "text/html": [
       "<div>\n",
       "<style scoped>\n",
       "    .dataframe tbody tr th:only-of-type {\n",
       "        vertical-align: middle;\n",
       "    }\n",
       "\n",
       "    .dataframe tbody tr th {\n",
       "        vertical-align: top;\n",
       "    }\n",
       "\n",
       "    .dataframe thead th {\n",
       "        text-align: right;\n",
       "    }\n",
       "</style>\n",
       "<table border=\"1\" class=\"dataframe\">\n",
       "  <thead>\n",
       "    <tr style=\"text-align: right;\">\n",
       "      <th></th>\n",
       "      <th>count</th>\n",
       "      <th>median</th>\n",
       "      <th>mean</th>\n",
       "      <th>std</th>\n",
       "      <th>max</th>\n",
       "    </tr>\n",
       "    <tr>\n",
       "      <th>version</th>\n",
       "      <th></th>\n",
       "      <th></th>\n",
       "      <th></th>\n",
       "      <th></th>\n",
       "      <th></th>\n",
       "    </tr>\n",
       "  </thead>\n",
       "  <tbody>\n",
       "    <tr>\n",
       "      <th>gate_30</th>\n",
       "      <td>44700</td>\n",
       "      <td>17.0</td>\n",
       "      <td>52.456264</td>\n",
       "      <td>256.716423</td>\n",
       "      <td>49854</td>\n",
       "    </tr>\n",
       "    <tr>\n",
       "      <th>gate_40</th>\n",
       "      <td>45489</td>\n",
       "      <td>16.0</td>\n",
       "      <td>51.298776</td>\n",
       "      <td>103.294416</td>\n",
       "      <td>2640</td>\n",
       "    </tr>\n",
       "  </tbody>\n",
       "</table>\n",
       "</div>"
      ],
      "text/plain": [
       "         count  median       mean         std    max\n",
       "version                                             \n",
       "gate_30  44700    17.0  52.456264  256.716423  49854\n",
       "gate_40  45489    16.0  51.298776  103.294416   2640"
      ]
     },
     "execution_count": 5,
     "metadata": {},
     "output_type": "execute_result"
    }
   ],
   "source": [
    "# A/B groups and target summary stats\n",
    "\n",
    "ab.groupby(\"version\").sum_gamerounds.agg(['count', 'median', 'mean', 'std', 'max'])"
   ]
  },
  {
   "cell_type": "code",
   "execution_count": 6,
   "id": "56721020",
   "metadata": {},
   "outputs": [
    {
     "data": {
      "text/plain": [
       "Text(0.5, 1.0, 'Distribution of gate_30 & gate_40')"
      ]
     },
     "execution_count": 6,
     "metadata": {},
     "output_type": "execute_result"
    },
    {
     "data": {
      "image/png": "[encoded data removed]",
      "text/plain": [
       "<Figure size 1296x360 with 3 Axes>"
      ]
     },
     "metadata": {
      "needs_background": "light"
     },
     "output_type": "display_data"
    }
   ],
   "source": [
    "fig, axes = plt.subplots(1,3,figsize=(18,5)) \n",
    "\n",
    "ab[(ab.version == \"gate_30\")].hist(\"sum_gamerounds\", ax = axes[0], color = \"steelblue\")\n",
    "ab[(ab.version == \"gate_40\")].hist(\"sum_gamerounds\", ax = axes[1], color = \"steelblue\")\n",
    "sns.boxplot(x = ab.version, y = ab.sum_gamerounds, ax = axes[2])\n",
    "\n",
    "axes[0].set_title(\"Distribution of gate_30\")\n",
    "axes[1].set_title(\"Distribution of gate_40\")\n",
    "axes[2].set_title(\"Distribution of gate_30 & gate_40\")\n"
   ]
  },
  {
   "cell_type": "code",
   "execution_count": 7,
   "id": "a15dbd3d",
   "metadata": {},
   "outputs": [
    {
     "data": {
      "text/plain": [
       "<AxesSubplot:xlabel='index'>"
      ]
     },
     "execution_count": 7,
     "metadata": {},
     "output_type": "execute_result"
    },
    {
     "data": {
      "image/png": "[encoded data removed]",
      "text/plain": [
       "<Figure size 1440x360 with 1 Axes>"
      ]
     },
     "metadata": {
      "needs_background": "light"
     },
     "output_type": "display_data"
    }
   ],
   "source": [
    "ab[ab.version==\"gate_30\"].reset_index().set_index(\"index\").sum_gamerounds.plot(legend=True, label=\"Gate 30\", figsize=(20,5))\n",
    "ab[ab.version==\"gate_40\"].reset_index().set_index(\"index\").sum_gamerounds.plot(legend=True, label=\"Gate 40\", figsize=(20,5))\n"
   ]
  },
  {
   "cell_type": "code",
   "execution_count": 8,
   "id": "15e7b4fd",
   "metadata": {},
   "outputs": [],
   "source": [
    "# after removing outlier"
   ]
  },
  {
   "cell_type": "code",
   "execution_count": 9,
   "id": "9e2cd273",
   "metadata": {},
   "outputs": [
    {
     "data": {
      "text/html": [
       "<div>\n",
       "<style scoped>\n",
       "    .dataframe tbody tr th:only-of-type {\n",
       "        vertical-align: middle;\n",
       "    }\n",
       "\n",
       "    .dataframe tbody tr th {\n",
       "        vertical-align: top;\n",
       "    }\n",
       "\n",
       "    .dataframe thead th {\n",
       "        text-align: right;\n",
       "    }\n",
       "</style>\n",
       "<table border=\"1\" class=\"dataframe\">\n",
       "  <thead>\n",
       "    <tr style=\"text-align: right;\">\n",
       "      <th></th>\n",
       "      <th>count</th>\n",
       "      <th>mean</th>\n",
       "      <th>std</th>\n",
       "      <th>min</th>\n",
       "      <th>1%</th>\n",
       "      <th>5%</th>\n",
       "      <th>10%</th>\n",
       "      <th>20%</th>\n",
       "      <th>50%</th>\n",
       "      <th>80%</th>\n",
       "      <th>90%</th>\n",
       "      <th>95%</th>\n",
       "      <th>99%</th>\n",
       "      <th>max</th>\n",
       "    </tr>\n",
       "  </thead>\n",
       "  <tbody>\n",
       "    <tr>\n",
       "      <th>sum_gamerounds</th>\n",
       "      <td>90188.0</td>\n",
       "      <td>51.320253</td>\n",
       "      <td>102.682719</td>\n",
       "      <td>0.0</td>\n",
       "      <td>0.0</td>\n",
       "      <td>1.0</td>\n",
       "      <td>1.0</td>\n",
       "      <td>3.0</td>\n",
       "      <td>16.0</td>\n",
       "      <td>67.0</td>\n",
       "      <td>134.0</td>\n",
       "      <td>221.0</td>\n",
       "      <td>493.0</td>\n",
       "      <td>2961.0</td>\n",
       "    </tr>\n",
       "  </tbody>\n",
       "</table>\n",
       "</div>"
      ],
      "text/plain": [
       "                  count       mean         std  min   1%   5%  10%  20%   50%  \\\n",
       "sum_gamerounds  90188.0  51.320253  102.682719  0.0  0.0  1.0  1.0  3.0  16.0   \n",
       "\n",
       "                 80%    90%    95%    99%     max  \n",
       "sum_gamerounds  67.0  134.0  221.0  493.0  2961.0  "
      ]
     },
     "execution_count": 9,
     "metadata": {},
     "output_type": "execute_result"
    }
   ],
   "source": [
    "ab=ab[ab.sum_gamerounds < ab.sum_gamerounds.max()]\n",
    "ab.describe([0.01, 0.05, 0.10, 0.20, 0.80, 0.90, 0.95, 0.99])[[\"sum_gamerounds\"]].T"
   ]
  },
  {
   "cell_type": "code",
   "execution_count": 10,
   "id": "3804ed5f",
   "metadata": {},
   "outputs": [
    {
     "data": {
      "text/plain": [
       "Text(0.5, 1.0, 'Distribution of gate_30 & gate_40')"
      ]
     },
     "execution_count": 10,
     "metadata": {},
     "output_type": "execute_result"
    },
    {
     "data": {
      "image/png": "[encoded data removed]",
      "text/plain": [
       "<Figure size 1296x360 with 3 Axes>"
      ]
     },
     "metadata": {
      "needs_background": "light"
     },
     "output_type": "display_data"
    }
   ],
   "source": [
    "fig, axes = plt.subplots(1,3,figsize=(18,5)) \n",
    "\n",
    "ab[(ab.version == \"gate_30\")].hist(\"sum_gamerounds\", ax = axes[0], color = \"steelblue\")\n",
    "ab[(ab.version == \"gate_40\")].hist(\"sum_gamerounds\", ax = axes[1], color = \"steelblue\")\n",
    "sns.boxplot(x = ab.version, y = ab.sum_gamerounds, ax = axes[2])\n",
    "\n",
    "axes[0].set_title(\"Distribution of gate_30\")\n",
    "axes[1].set_title(\"Distribution of gate_40\")\n",
    "axes[2].set_title(\"Distribution of gate_30 & gate_40\")"
   ]
  },
  {
   "cell_type": "code",
   "execution_count": 11,
   "id": "adc5e86b",
   "metadata": {},
   "outputs": [
    {
     "data": {
      "text/plain": [
       "<AxesSubplot:xlabel='index'>"
      ]
     },
     "execution_count": 11,
     "metadata": {},
     "output_type": "execute_result"
    },
    {
     "data": {
      "image/png": "[encoded data removed]",
      "text/plain": [
       "<Figure size 1440x360 with 1 Axes>"
      ]
     },
     "metadata": {
      "needs_background": "light"
     },
     "output_type": "display_data"
    }
   ],
   "source": [
    "ab[ab.version==\"gate_30\"].reset_index().set_index(\"index\").sum_gamerounds.plot(legend=True, label=\"Gate 30\", figsize=(20,5))\n",
    "ab[ab.version==\"gate_40\"].reset_index().set_index(\"index\").sum_gamerounds.plot(legend=True, label=\"Gate 40\", figsize=(20,5))\n"
   ]
  },
  {
   "cell_type": "code",
   "execution_count": 12,
   "id": "d4a65eea",
   "metadata": {},
   "outputs": [
    {
     "data": {
      "text/plain": [
       "3994"
      ]
     },
     "execution_count": 12,
     "metadata": {},
     "output_type": "execute_result"
    }
   ],
   "source": [
    "# players installed the game but haven't played the game. \n",
    "ab.groupby(\"sum_gamerounds\").userid.count()[0]"
   ]
  },
  {
   "cell_type": "code",
   "execution_count": 13,
   "id": "71e5ee7b",
   "metadata": {},
   "outputs": [
    {
     "data": {
      "text/plain": [
       "Text(0.5, 0.98, 'The no of users in the gme rounds played ')"
      ]
     },
     "execution_count": 13,
     "metadata": {},
     "output_type": "execute_result"
    },
    {
     "data": {
      "image/png": "[encoded data removed]",
      "text/plain": [
       "<Figure size 1800x720 with 2 Axes>"
      ]
     },
     "metadata": {
      "needs_background": "light"
     },
     "output_type": "display_data"
    }
   ],
   "source": [
    "fig, axes = plt.subplots(2, 1, figsize = (25,10))\n",
    "ab.groupby(\"sum_gamerounds\").userid.count().plot(ax = axes[0])\n",
    "ab.groupby(\"sum_gamerounds\").userid.count()[:200].plot(ax = axes[1])\n",
    "plt.suptitle(\"The no of users in the gme rounds played \", fontsize=25)"
   ]
  },
  {
   "cell_type": "code",
   "execution_count": 14,
   "id": "12a03b2a",
   "metadata": {},
   "outputs": [],
   "source": [
    "# from the first graph we can see that 3994 users never played the gme \n",
    "# the number of users decrease as the level increses"
   ]
  },
  {
   "cell_type": "code",
   "execution_count": 15,
   "id": "4788ab9c",
   "metadata": {},
   "outputs": [
    {
     "data": {
      "text/html": [
       "<div>\n",
       "<style scoped>\n",
       "    .dataframe tbody tr th:only-of-type {\n",
       "        vertical-align: middle;\n",
       "    }\n",
       "\n",
       "    .dataframe tbody tr th {\n",
       "        vertical-align: top;\n",
       "    }\n",
       "\n",
       "    .dataframe thead th {\n",
       "        text-align: right;\n",
       "    }\n",
       "</style>\n",
       "<table border=\"1\" class=\"dataframe\">\n",
       "  <thead>\n",
       "    <tr style=\"text-align: right;\">\n",
       "      <th></th>\n",
       "      <th>sum_gamerounds</th>\n",
       "      <th>userid</th>\n",
       "    </tr>\n",
       "  </thead>\n",
       "  <tbody>\n",
       "    <tr>\n",
       "      <th>0</th>\n",
       "      <td>0</td>\n",
       "      <td>3994</td>\n",
       "    </tr>\n",
       "    <tr>\n",
       "      <th>1</th>\n",
       "      <td>1</td>\n",
       "      <td>5538</td>\n",
       "    </tr>\n",
       "    <tr>\n",
       "      <th>2</th>\n",
       "      <td>2</td>\n",
       "      <td>4606</td>\n",
       "    </tr>\n",
       "    <tr>\n",
       "      <th>3</th>\n",
       "      <td>3</td>\n",
       "      <td>3958</td>\n",
       "    </tr>\n",
       "    <tr>\n",
       "      <th>4</th>\n",
       "      <td>4</td>\n",
       "      <td>3629</td>\n",
       "    </tr>\n",
       "    <tr>\n",
       "      <th>5</th>\n",
       "      <td>5</td>\n",
       "      <td>2992</td>\n",
       "    </tr>\n",
       "    <tr>\n",
       "      <th>6</th>\n",
       "      <td>6</td>\n",
       "      <td>2861</td>\n",
       "    </tr>\n",
       "    <tr>\n",
       "      <th>7</th>\n",
       "      <td>7</td>\n",
       "      <td>2379</td>\n",
       "    </tr>\n",
       "    <tr>\n",
       "      <th>8</th>\n",
       "      <td>8</td>\n",
       "      <td>2267</td>\n",
       "    </tr>\n",
       "    <tr>\n",
       "      <th>9</th>\n",
       "      <td>9</td>\n",
       "      <td>2013</td>\n",
       "    </tr>\n",
       "    <tr>\n",
       "      <th>10</th>\n",
       "      <td>10</td>\n",
       "      <td>1752</td>\n",
       "    </tr>\n",
       "    <tr>\n",
       "      <th>11</th>\n",
       "      <td>11</td>\n",
       "      <td>1654</td>\n",
       "    </tr>\n",
       "    <tr>\n",
       "      <th>12</th>\n",
       "      <td>12</td>\n",
       "      <td>1570</td>\n",
       "    </tr>\n",
       "    <tr>\n",
       "      <th>13</th>\n",
       "      <td>13</td>\n",
       "      <td>1594</td>\n",
       "    </tr>\n",
       "    <tr>\n",
       "      <th>14</th>\n",
       "      <td>14</td>\n",
       "      <td>1519</td>\n",
       "    </tr>\n",
       "    <tr>\n",
       "      <th>15</th>\n",
       "      <td>15</td>\n",
       "      <td>1446</td>\n",
       "    </tr>\n",
       "    <tr>\n",
       "      <th>16</th>\n",
       "      <td>16</td>\n",
       "      <td>1342</td>\n",
       "    </tr>\n",
       "    <tr>\n",
       "      <th>17</th>\n",
       "      <td>17</td>\n",
       "      <td>1269</td>\n",
       "    </tr>\n",
       "    <tr>\n",
       "      <th>18</th>\n",
       "      <td>18</td>\n",
       "      <td>1228</td>\n",
       "    </tr>\n",
       "    <tr>\n",
       "      <th>19</th>\n",
       "      <td>19</td>\n",
       "      <td>1158</td>\n",
       "    </tr>\n",
       "  </tbody>\n",
       "</table>\n",
       "</div>"
      ],
      "text/plain": [
       "    sum_gamerounds  userid\n",
       "0                0    3994\n",
       "1                1    5538\n",
       "2                2    4606\n",
       "3                3    3958\n",
       "4                4    3629\n",
       "5                5    2992\n",
       "6                6    2861\n",
       "7                7    2379\n",
       "8                8    2267\n",
       "9                9    2013\n",
       "10              10    1752\n",
       "11              11    1654\n",
       "12              12    1570\n",
       "13              13    1594\n",
       "14              14    1519\n",
       "15              15    1446\n",
       "16              16    1342\n",
       "17              17    1269\n",
       "18              18    1228\n",
       "19              19    1158"
      ]
     },
     "execution_count": 15,
     "metadata": {},
     "output_type": "execute_result"
    }
   ],
   "source": [
    "ab.groupby(\"sum_gamerounds\").userid.count().reset_index().head(20)"
   ]
  },
  {
   "cell_type": "code",
   "execution_count": 16,
   "id": "fc24a85a",
   "metadata": {},
   "outputs": [
    {
     "data": {
      "text/plain": [
       "sum_gamerounds\n",
       "30    642\n",
       "40    505\n",
       "Name: userid, dtype: int64"
      ]
     },
     "execution_count": 16,
     "metadata": {},
     "output_type": "execute_result"
    }
   ],
   "source": [
    "# users reached gate 30 and 40 \n",
    "ab.groupby(\"sum_gamerounds\").userid.count().loc[[30,40]]"
   ]
  },
  {
   "cell_type": "code",
   "execution_count": 17,
   "id": "cfe1fe46",
   "metadata": {},
   "outputs": [],
   "source": [
    "# 642 users reached level 30 and 505 users reached level 40 "
   ]
  },
  {
   "cell_type": "code",
   "execution_count": 18,
   "id": "2af61736",
   "metadata": {},
   "outputs": [
    {
     "data": {
      "text/html": [
       "<div>\n",
       "<style scoped>\n",
       "    .dataframe tbody tr th:only-of-type {\n",
       "        vertical-align: middle;\n",
       "    }\n",
       "\n",
       "    .dataframe tbody tr th {\n",
       "        vertical-align: top;\n",
       "    }\n",
       "\n",
       "    .dataframe thead th {\n",
       "        text-align: right;\n",
       "    }\n",
       "</style>\n",
       "<table border=\"1\" class=\"dataframe\">\n",
       "  <thead>\n",
       "    <tr style=\"text-align: right;\">\n",
       "      <th></th>\n",
       "      <th>count</th>\n",
       "      <th>median</th>\n",
       "      <th>mean</th>\n",
       "      <th>std</th>\n",
       "      <th>max</th>\n",
       "    </tr>\n",
       "    <tr>\n",
       "      <th>version</th>\n",
       "      <th></th>\n",
       "      <th></th>\n",
       "      <th></th>\n",
       "      <th></th>\n",
       "      <th></th>\n",
       "    </tr>\n",
       "  </thead>\n",
       "  <tbody>\n",
       "    <tr>\n",
       "      <th>gate_30</th>\n",
       "      <td>44699</td>\n",
       "      <td>17.0</td>\n",
       "      <td>51.342111</td>\n",
       "      <td>102.057598</td>\n",
       "      <td>2961</td>\n",
       "    </tr>\n",
       "    <tr>\n",
       "      <th>gate_40</th>\n",
       "      <td>45489</td>\n",
       "      <td>16.0</td>\n",
       "      <td>51.298776</td>\n",
       "      <td>103.294416</td>\n",
       "      <td>2640</td>\n",
       "    </tr>\n",
       "  </tbody>\n",
       "</table>\n",
       "</div>"
      ],
      "text/plain": [
       "         count  median       mean         std   max\n",
       "version                                            \n",
       "gate_30  44699    17.0  51.342111  102.057598  2961\n",
       "gate_40  45489    16.0  51.298776  103.294416  2640"
      ]
     },
     "execution_count": 18,
     "metadata": {},
     "output_type": "execute_result"
    }
   ],
   "source": [
    "# A/B Groups & Target Summary Stats\n",
    "ab.groupby(\"version\").sum_gamerounds.agg(['count', 'median','mean','std','max'])"
   ]
  },
  {
   "cell_type": "code",
   "execution_count": 19,
   "id": "8d9d40d3",
   "metadata": {},
   "outputs": [
    {
     "data": {
      "text/html": [
       "<div>\n",
       "<style scoped>\n",
       "    .dataframe tbody tr th:only-of-type {\n",
       "        vertical-align: middle;\n",
       "    }\n",
       "\n",
       "    .dataframe tbody tr th {\n",
       "        vertical-align: top;\n",
       "    }\n",
       "\n",
       "    .dataframe thead th {\n",
       "        text-align: right;\n",
       "    }\n",
       "</style>\n",
       "<table border=\"1\" class=\"dataframe\">\n",
       "  <thead>\n",
       "    <tr style=\"text-align: right;\">\n",
       "      <th></th>\n",
       "      <th>Ret1_count</th>\n",
       "      <th>Ret7_count</th>\n",
       "      <th>Ret1_ratio</th>\n",
       "      <th>Ret7_ratio</th>\n",
       "    </tr>\n",
       "  </thead>\n",
       "  <tbody>\n",
       "    <tr>\n",
       "      <th>False</th>\n",
       "      <td>50035</td>\n",
       "      <td>73408</td>\n",
       "      <td>0.554786</td>\n",
       "      <td>0.813944</td>\n",
       "    </tr>\n",
       "    <tr>\n",
       "      <th>True</th>\n",
       "      <td>40153</td>\n",
       "      <td>16780</td>\n",
       "      <td>0.445214</td>\n",
       "      <td>0.186056</td>\n",
       "    </tr>\n",
       "  </tbody>\n",
       "</table>\n",
       "</div>"
      ],
      "text/plain": [
       "       Ret1_count  Ret7_count  Ret1_ratio  Ret7_ratio\n",
       "False       50035       73408    0.554786    0.813944\n",
       "True        40153       16780    0.445214    0.186056"
      ]
     },
     "execution_count": 19,
     "metadata": {},
     "output_type": "execute_result"
    }
   ],
   "source": [
    "#retention_1 - did the player come back and play 1 day after installing?\n",
    "#retention_7 - did the player come back and play 7 days after installing? \n",
    "\n",
    "pd.DataFrame({\"Ret1_count\": ab['retention_1'].value_counts(),\n",
    "              \"Ret7_count\": ab['retention_7'].value_counts(),\n",
    "              \"Ret1_ratio\": ab['retention_1'].value_counts()/len(ab),\n",
    "              \"Ret7_ratio\": ab['retention_7'].value_counts()/len(ab)})"
   ]
  },
  {
   "cell_type": "code",
   "execution_count": 20,
   "id": "800854d7",
   "metadata": {},
   "outputs": [],
   "source": [
    "# after day1 55% of the player stopped playing. \n",
    "# afte day 7 81% of the player sropped playing."
   ]
  },
  {
   "cell_type": "code",
   "execution_count": 21,
   "id": "388b6862",
   "metadata": {},
   "outputs": [
    {
     "data": {
      "text/html": [
       "<div>\n",
       "<style scoped>\n",
       "    .dataframe tbody tr th:only-of-type {\n",
       "        vertical-align: middle;\n",
       "    }\n",
       "\n",
       "    .dataframe tbody tr th {\n",
       "        vertical-align: top;\n",
       "    }\n",
       "\n",
       "    .dataframe thead th {\n",
       "        text-align: right;\n",
       "    }\n",
       "</style>\n",
       "<table border=\"1\" class=\"dataframe\">\n",
       "  <thead>\n",
       "    <tr style=\"text-align: right;\">\n",
       "      <th></th>\n",
       "      <th></th>\n",
       "      <th>count</th>\n",
       "      <th>median</th>\n",
       "      <th>mean</th>\n",
       "      <th>std</th>\n",
       "      <th>max</th>\n",
       "    </tr>\n",
       "    <tr>\n",
       "      <th>version</th>\n",
       "      <th>retention_1</th>\n",
       "      <th></th>\n",
       "      <th></th>\n",
       "      <th></th>\n",
       "      <th></th>\n",
       "      <th></th>\n",
       "    </tr>\n",
       "  </thead>\n",
       "  <tbody>\n",
       "    <tr>\n",
       "      <th rowspan=\"2\" valign=\"top\">gate_30</th>\n",
       "      <th>False</th>\n",
       "      <td>24665</td>\n",
       "      <td>6.0</td>\n",
       "      <td>16.359092</td>\n",
       "      <td>36.528426</td>\n",
       "      <td>1072</td>\n",
       "    </tr>\n",
       "    <tr>\n",
       "      <th>True</th>\n",
       "      <td>20034</td>\n",
       "      <td>48.0</td>\n",
       "      <td>94.411700</td>\n",
       "      <td>135.037697</td>\n",
       "      <td>2961</td>\n",
       "    </tr>\n",
       "    <tr>\n",
       "      <th rowspan=\"2\" valign=\"top\">gate_40</th>\n",
       "      <th>False</th>\n",
       "      <td>25370</td>\n",
       "      <td>6.0</td>\n",
       "      <td>16.340402</td>\n",
       "      <td>35.925756</td>\n",
       "      <td>1241</td>\n",
       "    </tr>\n",
       "    <tr>\n",
       "      <th>True</th>\n",
       "      <td>20119</td>\n",
       "      <td>49.0</td>\n",
       "      <td>95.381182</td>\n",
       "      <td>137.887256</td>\n",
       "      <td>2640</td>\n",
       "    </tr>\n",
       "  </tbody>\n",
       "</table>\n",
       "</div>"
      ],
      "text/plain": [
       "                     count  median       mean         std   max\n",
       "version retention_1                                            \n",
       "gate_30 False        24665     6.0  16.359092   36.528426  1072\n",
       "        True         20034    48.0  94.411700  135.037697  2961\n",
       "gate_40 False        25370     6.0  16.340402   35.925756  1241\n",
       "        True         20119    49.0  95.381182  137.887256  2640"
      ]
     },
     "execution_count": 21,
     "metadata": {},
     "output_type": "execute_result"
    }
   ],
   "source": [
    "# summary statistics of retention variables by version \n",
    "ab.groupby(['version','retention_1']).sum_gamerounds.agg(['count','median','mean','std','max'])"
   ]
  },
  {
   "cell_type": "code",
   "execution_count": 22,
   "id": "d7f48d30",
   "metadata": {},
   "outputs": [
    {
     "data": {
      "text/html": [
       "<div>\n",
       "<style scoped>\n",
       "    .dataframe tbody tr th:only-of-type {\n",
       "        vertical-align: middle;\n",
       "    }\n",
       "\n",
       "    .dataframe tbody tr th {\n",
       "        vertical-align: top;\n",
       "    }\n",
       "\n",
       "    .dataframe thead th {\n",
       "        text-align: right;\n",
       "    }\n",
       "</style>\n",
       "<table border=\"1\" class=\"dataframe\">\n",
       "  <thead>\n",
       "    <tr style=\"text-align: right;\">\n",
       "      <th></th>\n",
       "      <th></th>\n",
       "      <th>count</th>\n",
       "      <th>median</th>\n",
       "      <th>mean</th>\n",
       "      <th>std</th>\n",
       "      <th>max</th>\n",
       "    </tr>\n",
       "    <tr>\n",
       "      <th>version</th>\n",
       "      <th>retention_7</th>\n",
       "      <th></th>\n",
       "      <th></th>\n",
       "      <th></th>\n",
       "      <th></th>\n",
       "      <th></th>\n",
       "    </tr>\n",
       "  </thead>\n",
       "  <tbody>\n",
       "    <tr>\n",
       "      <th rowspan=\"2\" valign=\"top\">gate_30</th>\n",
       "      <th>False</th>\n",
       "      <td>36198</td>\n",
       "      <td>11.0</td>\n",
       "      <td>25.796508</td>\n",
       "      <td>43.316158</td>\n",
       "      <td>981</td>\n",
       "    </tr>\n",
       "    <tr>\n",
       "      <th>True</th>\n",
       "      <td>8501</td>\n",
       "      <td>105.0</td>\n",
       "      <td>160.117516</td>\n",
       "      <td>179.358560</td>\n",
       "      <td>2961</td>\n",
       "    </tr>\n",
       "    <tr>\n",
       "      <th rowspan=\"2\" valign=\"top\">gate_40</th>\n",
       "      <th>False</th>\n",
       "      <td>37210</td>\n",
       "      <td>11.0</td>\n",
       "      <td>25.856356</td>\n",
       "      <td>44.406112</td>\n",
       "      <td>2640</td>\n",
       "    </tr>\n",
       "    <tr>\n",
       "      <th>True</th>\n",
       "      <td>8279</td>\n",
       "      <td>111.0</td>\n",
       "      <td>165.649837</td>\n",
       "      <td>183.792499</td>\n",
       "      <td>2294</td>\n",
       "    </tr>\n",
       "  </tbody>\n",
       "</table>\n",
       "</div>"
      ],
      "text/plain": [
       "                     count  median        mean         std   max\n",
       "version retention_7                                             \n",
       "gate_30 False        36198    11.0   25.796508   43.316158   981\n",
       "        True          8501   105.0  160.117516  179.358560  2961\n",
       "gate_40 False        37210    11.0   25.856356   44.406112  2640\n",
       "        True          8279   111.0  165.649837  183.792499  2294"
      ]
     },
     "execution_count": 22,
     "metadata": {},
     "output_type": "execute_result"
    }
   ],
   "source": [
    "ab.groupby(['version','retention_7']).sum_gamerounds.agg(['count','median','mean','std','max'])"
   ]
  },
  {
   "cell_type": "code",
   "execution_count": 23,
   "id": "0c4dca34",
   "metadata": {},
   "outputs": [
    {
     "data": {
      "text/html": [
       "<div>\n",
       "<style scoped>\n",
       "    .dataframe tbody tr th:only-of-type {\n",
       "        vertical-align: middle;\n",
       "    }\n",
       "\n",
       "    .dataframe tbody tr th {\n",
       "        vertical-align: top;\n",
       "    }\n",
       "\n",
       "    .dataframe thead th {\n",
       "        text-align: right;\n",
       "    }\n",
       "</style>\n",
       "<table border=\"1\" class=\"dataframe\">\n",
       "  <thead>\n",
       "    <tr style=\"text-align: right;\">\n",
       "      <th></th>\n",
       "      <th></th>\n",
       "      <th>count</th>\n",
       "      <th>median</th>\n",
       "      <th>mean</th>\n",
       "      <th>std</th>\n",
       "      <th>max</th>\n",
       "    </tr>\n",
       "    <tr>\n",
       "      <th>version</th>\n",
       "      <th>Retention</th>\n",
       "      <th></th>\n",
       "      <th></th>\n",
       "      <th></th>\n",
       "      <th></th>\n",
       "      <th></th>\n",
       "    </tr>\n",
       "  </thead>\n",
       "  <tbody>\n",
       "    <tr>\n",
       "      <th rowspan=\"2\" valign=\"top\">gate_30</th>\n",
       "      <th>0</th>\n",
       "      <td>38023</td>\n",
       "      <td>12.0</td>\n",
       "      <td>28.070273</td>\n",
       "      <td>48.017452</td>\n",
       "      <td>1072</td>\n",
       "    </tr>\n",
       "    <tr>\n",
       "      <th>1</th>\n",
       "      <td>6676</td>\n",
       "      <td>127.0</td>\n",
       "      <td>183.886309</td>\n",
       "      <td>189.626390</td>\n",
       "      <td>2961</td>\n",
       "    </tr>\n",
       "    <tr>\n",
       "      <th rowspan=\"2\" valign=\"top\">gate_40</th>\n",
       "      <th>0</th>\n",
       "      <td>38983</td>\n",
       "      <td>12.0</td>\n",
       "      <td>28.103353</td>\n",
       "      <td>48.927850</td>\n",
       "      <td>2640</td>\n",
       "    </tr>\n",
       "    <tr>\n",
       "      <th>1</th>\n",
       "      <td>6506</td>\n",
       "      <td>133.0</td>\n",
       "      <td>190.282355</td>\n",
       "      <td>194.220077</td>\n",
       "      <td>2294</td>\n",
       "    </tr>\n",
       "  </tbody>\n",
       "</table>\n",
       "</div>"
      ],
      "text/plain": [
       "                   count  median        mean         std   max\n",
       "version Retention                                             \n",
       "gate_30 0          38023    12.0   28.070273   48.017452  1072\n",
       "        1           6676   127.0  183.886309  189.626390  2961\n",
       "gate_40 0          38983    12.0   28.103353   48.927850  2640\n",
       "        1           6506   133.0  190.282355  194.220077  2294"
      ]
     },
     "execution_count": 23,
     "metadata": {},
     "output_type": "execute_result"
    }
   ],
   "source": [
    "ab['Retention']=np.where((ab.retention_1==True) & (ab.retention_7==True),1,0)\n",
    "ab.groupby(['version','Retention']).sum_gamerounds.agg(['count','median','mean','std','max'])"
   ]
  },
  {
   "cell_type": "code",
   "execution_count": 24,
   "id": "e05eb207",
   "metadata": {},
   "outputs": [
    {
     "data": {
      "text/html": [
       "<div>\n",
       "<style scoped>\n",
       "    .dataframe tbody tr th:only-of-type {\n",
       "        vertical-align: middle;\n",
       "    }\n",
       "\n",
       "    .dataframe tbody tr th {\n",
       "        vertical-align: top;\n",
       "    }\n",
       "\n",
       "    .dataframe thead th {\n",
       "        text-align: right;\n",
       "    }\n",
       "</style>\n",
       "<table border=\"1\" class=\"dataframe\">\n",
       "  <thead>\n",
       "    <tr style=\"text-align: right;\">\n",
       "      <th></th>\n",
       "      <th></th>\n",
       "      <th>count</th>\n",
       "      <th>median</th>\n",
       "      <th>mean</th>\n",
       "      <th>std</th>\n",
       "      <th>max</th>\n",
       "    </tr>\n",
       "    <tr>\n",
       "      <th>version</th>\n",
       "      <th>newRetention</th>\n",
       "      <th></th>\n",
       "      <th></th>\n",
       "      <th></th>\n",
       "      <th></th>\n",
       "      <th></th>\n",
       "    </tr>\n",
       "  </thead>\n",
       "  <tbody>\n",
       "    <tr>\n",
       "      <th rowspan=\"4\" valign=\"top\">gate_30</th>\n",
       "      <th>False - False</th>\n",
       "      <td>22840</td>\n",
       "      <td>6.0</td>\n",
       "      <td>11.819746</td>\n",
       "      <td>21.642643</td>\n",
       "      <td>981</td>\n",
       "    </tr>\n",
       "    <tr>\n",
       "      <th>False - True</th>\n",
       "      <td>1825</td>\n",
       "      <td>43.0</td>\n",
       "      <td>73.169315</td>\n",
       "      <td>93.222330</td>\n",
       "      <td>1072</td>\n",
       "    </tr>\n",
       "    <tr>\n",
       "      <th>True - False</th>\n",
       "      <td>13358</td>\n",
       "      <td>33.0</td>\n",
       "      <td>49.694490</td>\n",
       "      <td>58.125396</td>\n",
       "      <td>918</td>\n",
       "    </tr>\n",
       "    <tr>\n",
       "      <th>True - True</th>\n",
       "      <td>6676</td>\n",
       "      <td>127.0</td>\n",
       "      <td>183.886309</td>\n",
       "      <td>189.626390</td>\n",
       "      <td>2961</td>\n",
       "    </tr>\n",
       "    <tr>\n",
       "      <th rowspan=\"4\" valign=\"top\">gate_40</th>\n",
       "      <th>False - False</th>\n",
       "      <td>23597</td>\n",
       "      <td>6.0</td>\n",
       "      <td>11.913294</td>\n",
       "      <td>20.901020</td>\n",
       "      <td>547</td>\n",
       "    </tr>\n",
       "    <tr>\n",
       "      <th>False - True</th>\n",
       "      <td>1773</td>\n",
       "      <td>47.0</td>\n",
       "      <td>75.261139</td>\n",
       "      <td>94.478048</td>\n",
       "      <td>1241</td>\n",
       "    </tr>\n",
       "    <tr>\n",
       "      <th>True - False</th>\n",
       "      <td>13613</td>\n",
       "      <td>32.0</td>\n",
       "      <td>50.025490</td>\n",
       "      <td>60.924587</td>\n",
       "      <td>2640</td>\n",
       "    </tr>\n",
       "    <tr>\n",
       "      <th>True - True</th>\n",
       "      <td>6506</td>\n",
       "      <td>133.0</td>\n",
       "      <td>190.282355</td>\n",
       "      <td>194.220077</td>\n",
       "      <td>2294</td>\n",
       "    </tr>\n",
       "  </tbody>\n",
       "</table>\n",
       "</div>"
      ],
      "text/plain": [
       "                       count  median        mean         std   max\n",
       "version newRetention                                              \n",
       "gate_30 False - False  22840     6.0   11.819746   21.642643   981\n",
       "        False - True    1825    43.0   73.169315   93.222330  1072\n",
       "        True - False   13358    33.0   49.694490   58.125396   918\n",
       "        True - True     6676   127.0  183.886309  189.626390  2961\n",
       "gate_40 False - False  23597     6.0   11.913294   20.901020   547\n",
       "        False - True    1773    47.0   75.261139   94.478048  1241\n",
       "        True - False   13613    32.0   50.025490   60.924587  2640\n",
       "        True - True     6506   133.0  190.282355  194.220077  2294"
      ]
     },
     "execution_count": 24,
     "metadata": {},
     "output_type": "execute_result"
    }
   ],
   "source": [
    "ab['newRetention']=list(map(lambda x,y: str(x)+\" - \"+str(y), ab.retention_1, ab.retention_7))\n",
    "ab.groupby(['version','newRetention']).sum_gamerounds.agg(['count','median','mean','std','max'])"
   ]
  },
  {
   "cell_type": "code",
   "execution_count": 25,
   "id": "baa3becb",
   "metadata": {},
   "outputs": [],
   "source": [
    "# A/B Testing\n",
    "# Assumptions:\n",
    "\n",
    "#Check normality\n",
    "#If Normal Distribution, check homogeneity\n",
    "\n",
    "#Steps:\n",
    "\n",
    "#Split & Define Control Group & Test Group\n",
    "\n",
    "#Apply Shapiro Test for normality\n",
    "\n",
    "#If parametric apply Levene Test for homogeneity of variances\n",
    "\n",
    "#If Parametric + homogeneity of variances apply T-Test\n",
    "\n",
    "#If Parametric - homogeneity of variances apply Welch Test\n",
    "\n",
    "#If Non-parametric apply Mann Whitney U Test directly\n"
   ]
  },
  {
   "cell_type": "code",
   "execution_count": 26,
   "id": "ed5e9103",
   "metadata": {},
   "outputs": [
    {
     "data": {
      "text/html": [
       "<div>\n",
       "<style scoped>\n",
       "    .dataframe tbody tr th:only-of-type {\n",
       "        vertical-align: middle;\n",
       "    }\n",
       "\n",
       "    .dataframe tbody tr th {\n",
       "        vertical-align: top;\n",
       "    }\n",
       "\n",
       "    .dataframe thead th {\n",
       "        text-align: right;\n",
       "    }\n",
       "</style>\n",
       "<table border=\"1\" class=\"dataframe\">\n",
       "  <thead>\n",
       "    <tr style=\"text-align: right;\">\n",
       "      <th></th>\n",
       "      <th>userid</th>\n",
       "      <th>version</th>\n",
       "      <th>sum_gamerounds</th>\n",
       "      <th>retention_1</th>\n",
       "      <th>retention_7</th>\n",
       "      <th>Retention</th>\n",
       "      <th>newRetention</th>\n",
       "    </tr>\n",
       "  </thead>\n",
       "  <tbody>\n",
       "    <tr>\n",
       "      <th>0</th>\n",
       "      <td>116</td>\n",
       "      <td>A</td>\n",
       "      <td>3</td>\n",
       "      <td>False</td>\n",
       "      <td>False</td>\n",
       "      <td>0</td>\n",
       "      <td>False - False</td>\n",
       "    </tr>\n",
       "    <tr>\n",
       "      <th>1</th>\n",
       "      <td>337</td>\n",
       "      <td>A</td>\n",
       "      <td>38</td>\n",
       "      <td>True</td>\n",
       "      <td>False</td>\n",
       "      <td>0</td>\n",
       "      <td>True - False</td>\n",
       "    </tr>\n",
       "    <tr>\n",
       "      <th>2</th>\n",
       "      <td>377</td>\n",
       "      <td>B</td>\n",
       "      <td>165</td>\n",
       "      <td>True</td>\n",
       "      <td>False</td>\n",
       "      <td>0</td>\n",
       "      <td>True - False</td>\n",
       "    </tr>\n",
       "    <tr>\n",
       "      <th>3</th>\n",
       "      <td>483</td>\n",
       "      <td>B</td>\n",
       "      <td>1</td>\n",
       "      <td>False</td>\n",
       "      <td>False</td>\n",
       "      <td>0</td>\n",
       "      <td>False - False</td>\n",
       "    </tr>\n",
       "    <tr>\n",
       "      <th>4</th>\n",
       "      <td>488</td>\n",
       "      <td>B</td>\n",
       "      <td>179</td>\n",
       "      <td>True</td>\n",
       "      <td>True</td>\n",
       "      <td>1</td>\n",
       "      <td>True - True</td>\n",
       "    </tr>\n",
       "  </tbody>\n",
       "</table>\n",
       "</div>"
      ],
      "text/plain": [
       "   userid version  sum_gamerounds  retention_1  retention_7  Retention  \\\n",
       "0     116       A               3        False        False          0   \n",
       "1     337       A              38         True        False          0   \n",
       "2     377       B             165         True        False          0   \n",
       "3     483       B               1        False        False          0   \n",
       "4     488       B             179         True         True          1   \n",
       "\n",
       "    newRetention  \n",
       "0  False - False  \n",
       "1   True - False  \n",
       "2   True - False  \n",
       "3  False - False  \n",
       "4    True - True  "
      ]
     },
     "execution_count": 26,
     "metadata": {},
     "output_type": "execute_result"
    }
   ],
   "source": [
    "ab['version']=np.where(ab.version==\"gate_30\",'A','B')\n",
    "ab.head()"
   ]
  },
  {
   "cell_type": "code",
   "execution_count": 27,
   "id": "06f6b1ff",
   "metadata": {},
   "outputs": [],
   "source": [
    "def AB_test(data, group, target):\n",
    "    #split\n",
    "    groupA = data[data[group]==\"A\"][target]\n",
    "    groupB = data[data[group]==\"B\"][target]\n",
    "    \n",
    "    #assumption  \n",
    "    ntA = shapiro(groupA)[1] < 0.05 \n",
    "    ntB = shapiro(groupB)[1] < 0.05\n",
    "    # H0 : distribution is normal -FALSE \n",
    "    # H1 : distribution is not normal - TRUE \n",
    "    \n",
    "    if(ntA==False)and(ntB==False): #H0:Normal Distribution\n",
    "        #parametric test\n",
    "        leveneTest = stats.levene(groupA, groupB)[1] < 0.05\n",
    "        # H0:homogeneity : FALSE \n",
    "        # H1:heterogeneous:TRUE \n",
    "        \n",
    "        if leveneTest == False: # homogeneity\n",
    "            ttest = stats.ttest_ind(groupA, groupB, equal_var=True)[1]\n",
    "        \n",
    "        else : # heterogeneous\n",
    "            ttest = stats.ttest_ind(groupA, groupB, equal_var=True)[1]\n",
    "            \n",
    "    else: # non parametric test\n",
    "        ttest=stats.mannwhitneyu(groupA, groupB)[1] \n",
    "        \n",
    "    \n",
    "    #result \n",
    "    temp = pd.DataFrame({\n",
    "        \"AB hypothesis\":[ttest<0.05],\n",
    "        \"p-value\":[ttest]\n",
    "    })\n",
    "    \n",
    "    temp[\"Test Type\"] = np.where((ntA == False) and (ntB==False), \"parametric test\", \"non parametric test\")\n",
    "    temp[\"AB hypothesis\"] = np.where(temp['AB hypothesis'] == False, \"Fail to reject H0\", \"Reject H0\")\n",
    "    temp['comment'] = np.where(temp[\"AB hypothesis\"]==\"Fail to reject H0\", \"A/B groups are similar\", \"A/B groups are not similar\")\n",
    "    \n",
    "    \n",
    "    if (ntA == False) and (ntB==False):\n",
    "        temp['homogeneity']=np.where(leveneTest==False, \"True\", \"False\")\n",
    "        temp = temp[[\"Test Type\",\"homogeneity\",\"AB hypothesis\", \"p-value\", \"comment\"]]\n",
    "    else:\n",
    "        temp = temp[[\"Test Type\",\"AB hypothesis\", \"p-value\", \"comment\"]]\n",
    "\n",
    "    \n",
    "    print(\">> A/B Testing Hypothesis \")\n",
    "    print(\"H0: A == B\\n H1: A != B \\n\")\n",
    "    \n",
    "    return temp \n",
    "    \n",
    "\n",
    "            "
   ]
  },
  {
   "cell_type": "code",
   "execution_count": 28,
   "id": "44ea4909",
   "metadata": {},
   "outputs": [
    {
     "name": "stdout",
     "output_type": "stream",
     "text": [
      ">> A/B Testing Hypothesis \n",
      "H0: A == B\n",
      " H1: A != B \n",
      "\n"
     ]
    },
    {
     "data": {
      "text/html": [
       "<div>\n",
       "<style scoped>\n",
       "    .dataframe tbody tr th:only-of-type {\n",
       "        vertical-align: middle;\n",
       "    }\n",
       "\n",
       "    .dataframe tbody tr th {\n",
       "        vertical-align: top;\n",
       "    }\n",
       "\n",
       "    .dataframe thead th {\n",
       "        text-align: right;\n",
       "    }\n",
       "</style>\n",
       "<table border=\"1\" class=\"dataframe\">\n",
       "  <thead>\n",
       "    <tr style=\"text-align: right;\">\n",
       "      <th></th>\n",
       "      <th>Test Type</th>\n",
       "      <th>AB hypothesis</th>\n",
       "      <th>p-value</th>\n",
       "      <th>comment</th>\n",
       "    </tr>\n",
       "  </thead>\n",
       "  <tbody>\n",
       "    <tr>\n",
       "      <th>0</th>\n",
       "      <td>non parametric test</td>\n",
       "      <td>Fail to reject H0</td>\n",
       "      <td>0.050892</td>\n",
       "      <td>A/B groups are similar</td>\n",
       "    </tr>\n",
       "  </tbody>\n",
       "</table>\n",
       "</div>"
      ],
      "text/plain": [
       "             Test Type      AB hypothesis   p-value                 comment\n",
       "0  non parametric test  Fail to reject H0  0.050892  A/B groups are similar"
      ]
     },
     "execution_count": 28,
     "metadata": {},
     "output_type": "execute_result"
    }
   ],
   "source": [
    "AB_test(ab, \"version\", 'sum_gamerounds')"
   ]
  },
  {
   "cell_type": "code",
   "execution_count": 31,
   "id": "392d3597",
   "metadata": {},
   "outputs": [
    {
     "data": {
      "text/plain": [
       "version\n",
       "A    0.448198\n",
       "B    0.442283\n",
       "Name: retention_1, dtype: float64"
      ]
     },
     "execution_count": 31,
     "metadata": {},
     "output_type": "execute_result"
    }
   ],
   "source": [
    "# Which level has more advantages in terms of player retention? \n",
    "\n",
    "ab.groupby(\"version\").retention_1.mean()"
   ]
  },
  {
   "cell_type": "code",
   "execution_count": 32,
   "id": "a7155b13",
   "metadata": {},
   "outputs": [
    {
     "data": {
      "text/plain": [
       "version\n",
       "A    0.190183\n",
       "B    0.182000\n",
       "Name: retention_7, dtype: float64"
      ]
     },
     "execution_count": 32,
     "metadata": {},
     "output_type": "execute_result"
    }
   ],
   "source": [
    "ab.groupby(\"version\").retention_7.mean()"
   ]
  },
  {
   "cell_type": "code",
   "execution_count": 33,
   "id": "0654b15e",
   "metadata": {},
   "outputs": [],
   "source": [
    "# 1-day and 7-day average retention are higher when the gate is at level 30 than when it is at level 40."
   ]
  }
 ],
 "metadata": {
  "kernelspec": {
   "display_name": "Python 3 (ipykernel)",
   "language": "python",
   "name": "python3"
  },
  "language_info": {
   "codemirror_mode": {
    "name": "ipython",
    "version": 3
   },
   "file_extension": ".py",
   "mimetype": "text/x-python",
   "name": "python",
   "nbconvert_exporter": "python",
   "pygments_lexer": "ipython3",
   "version": "3.8.10"
  }
 },
 "nbformat": 4,
 "nbformat_minor": 5
}
